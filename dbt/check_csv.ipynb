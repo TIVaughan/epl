{
 "cells": [
  {
   "cell_type": "code",
   "execution_count": 4,
   "metadata": {},
   "outputs": [],
   "source": [
    "import csv\n",
    "\n",
    "def check_csv(file_path):\n",
    "    with open(file_path, newline='', encoding='utf-8') as csvfile:\n",
    "        reader = csv.reader(csvfile)\n",
    "        column_count = None\n",
    "        for row_num, row in enumerate(reader, 1):\n",
    "            if column_count is None:\n",
    "                column_count = len(row)\n",
    "            elif len(row) != column_count:\n",
    "                print(f\"Row {row_num} has {len(row)} columns, expected {column_count}.\")\n",
    "check_csv('/Users/timvaughan/Documents/Projects/epl/dbt/seeds/PL_19_20.csv')"
   ]
  },
  {
   "cell_type": "code",
   "execution_count": 5,
   "metadata": {},
   "outputs": [],
   "source": [
    "def check_utf8(file_path):\n",
    "    with open(file_path, 'r', encoding='utf-8') as file:\n",
    "        try:\n",
    "            file.read()\n",
    "        except UnicodeDecodeError as e:\n",
    "            print(f\"Non-UTF-8 character at position {e.start}\")\n",
    "check_utf8('/Users/timvaughan/Documents/Projects/epl/dbt/seeds/PL_19_20.csv')"
   ]
  },
  {
   "cell_type": "code",
   "execution_count": 6,
   "metadata": {},
   "outputs": [],
   "source": [
    "def split_csv(file_path, max_rows=1000):\n",
    "    with open(file_path, 'r', encoding='utf-8') as infile:\n",
    "        reader = csv.reader(infile)\n",
    "        headers = next(reader)  # assuming the first row is the header\n",
    "        rows = []\n",
    "        for i, row in enumerate(reader, 1):\n",
    "            rows.append(row)\n",
    "            if i % max_rows == 0:\n",
    "                with open(f'seeds_PL_19_20_part_{i//max_rows + 1}.csv', 'w', newline='', encoding='utf-8') as outfile:\n",
    "                    writer = csv.writer(outfile)\n",
    "                    writer.writerow(headers)\n",
    "                    writer.writerows(rows)\n",
    "                rows = []  # Reset for the next part\n",
    "        if rows:\n",
    "            with open(f'seeds_PL_19_20_part_{i//max_rows + 1}.csv', 'w', newline='', encoding='utf-8') as outfile:\n",
    "                writer = csv.writer(outfile)\n",
    "                writer.writerow(headers)\n",
    "                writer.writerows(rows)\n",
    "split_csv('/Users/timvaughan/Documents/Projects/epl/dbt/seeds/PL_19_20.csv')"
   ]
  },
  {
   "cell_type": "code",
   "execution_count": null,
   "metadata": {},
   "outputs": [],
   "source": []
  }
 ],
 "metadata": {
  "kernelspec": {
   "display_name": "Python 3",
   "language": "python",
   "name": "python3"
  },
  "language_info": {
   "codemirror_mode": {
    "name": "ipython",
    "version": 3
   },
   "file_extension": ".py",
   "mimetype": "text/x-python",
   "name": "python",
   "nbconvert_exporter": "python",
   "pygments_lexer": "ipython3",
   "version": "3.11.4"
  },
  "orig_nbformat": 4
 },
 "nbformat": 4,
 "nbformat_minor": 2
}
